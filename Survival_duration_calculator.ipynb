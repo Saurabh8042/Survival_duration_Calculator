{
  "nbformat": 4,
  "nbformat_minor": 0,
  "metadata": {
    "colab": {
      "provenance": []
    },
    "kernelspec": {
      "name": "python3",
      "display_name": "Python 3"
    },
    "language_info": {
      "name": "python"
    }
  },
  "cells": [
    {
      "cell_type": "markdown",
      "source": [
        "**Objective:  **the objective is to calculate the duration of how long a person lived based on his age. The duration should be calculated in different time units like months, weeks, days, hours, minutes, seconds. the input to the application is an age of a person and the output is expected to caculate the duration of time he lived in different time units as selected by user.\n"
      ],
      "metadata": {
        "id": "rOfys1faPz6t"
      }
    },
    {
      "cell_type": "code",
      "source": [
        "# Define conversion factors\n",
        "seconds_in_minute = 60\n",
        "minutes_in_hour = 60\n",
        "hours_in_day = 24\n",
        "days_in_week = 7\n",
        "weeks_in_month = 4.35  # Approximate value\n",
        "months_in_year = 12\n",
        "\n",
        "# Take user input for age\n",
        "age = float(input(\"Enter the age of the person: \"))\n",
        "\n",
        "# Display unit selection menu\n",
        "print(\"Select the time units for survival duration:\")\n",
        "print(\"1. Months\")\n",
        "print(\"2. Weeks\")\n",
        "print(\"3. Days\")\n",
        "print(\"4. Hours\")\n",
        "print(\"5. Minutes\")\n",
        "print(\"6. Seconds\")\n",
        "\n",
        "# Get user's choice\n",
        "choice = int(input(\"Enter your choice (1-6): \"))\n",
        "\n",
        "# Calculate survival duration based on user's choice\n",
        "if choice == 1:\n",
        "    duration = age * months_in_year\n",
        "    unit = \"months\"\n",
        "elif choice == 2:\n",
        "    duration = age * days_in_week * (months_in_year / weeks_in_month)\n",
        "    unit = \"weeks\"\n",
        "elif choice == 3:\n",
        "    duration = age * days_in_week * (months_in_year / weeks_in_month) * weeks_in_month\n",
        "    unit = \"days\"\n",
        "elif choice == 4:\n",
        "    duration = age * days_in_week * (months_in_year / weeks_in_month) * weeks_in_month * hours_in_day\n",
        "    unit = \"hours\"\n",
        "elif choice == 5:\n",
        "    duration = age * days_in_week * (months_in_year / weeks_in_month) * weeks_in_month * hours_in_day * minutes_in_hour\n",
        "    unit = \"minutes\"\n",
        "elif choice == 6:\n",
        "    duration = age * days_in_week * (months_in_year / weeks_in_month) * weeks_in_month * hours_in_day * minutes_in_hour * seconds_in_minute\n",
        "    unit = \"seconds\"\n",
        "else:\n",
        "    print(\"Invalid choice\")\n",
        "    exit()\n",
        "\n",
        "# Display the result\n",
        "print(f\"The person has lived for {duration:.2f} {unit}.\")\n"
      ],
      "metadata": {
        "colab": {
          "base_uri": "https://localhost:8080/"
        },
        "id": "JjeAarghPnGp",
        "outputId": "c865e70c-0f75-49df-fbad-3772d9b97c7f"
      },
      "execution_count": 2,
      "outputs": [
        {
          "output_type": "stream",
          "name": "stdout",
          "text": [
            "Enter the age of the person: 26\n",
            "Select the time units for survival duration:\n",
            "1. Months\n",
            "2. Weeks\n",
            "3. Days\n",
            "4. Hours\n",
            "5. Minutes\n",
            "6. Seconds\n",
            "Enter your choice (1-6): 1\n",
            "The person has lived for 312.00 months.\n"
          ]
        }
      ]
    }
  ]
}